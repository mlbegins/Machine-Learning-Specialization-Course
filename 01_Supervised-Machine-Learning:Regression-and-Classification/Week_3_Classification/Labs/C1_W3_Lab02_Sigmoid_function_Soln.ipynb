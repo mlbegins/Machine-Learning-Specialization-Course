{
 "cells": [
  {
   "cell_type": "markdown",
   "metadata": {},
   "source": [
    "# Lab: Logistic Regression\n",
    "\n",
    "In this ungraded lab, you will \n",
    "- explore the sigmoid function (also known as the logistic function)\n",
    "- explore logistic regression; which uses the sigmoid function"
   ]
  },
  {
   "cell_type": "code",
   "execution_count": 1,
   "metadata": {},
   "outputs": [],
   "source": [
    "import numpy as np\n",
    "%matplotlib widget\n",
    "import matplotlib.pyplot as plt\n",
    "\n",
    "import os\n",
    "file_name = os.path.join(os.path.dirname(os.path.dirname(os.getcwd())), \"deeplearning.mplstyle\")\n",
    "plt.style.use(file_name)\n",
    "\n",
    "import sys\n",
    "sys.path.append(os.path.join(os.path.dirname(os.path.dirname(os.getcwd()))))  # path to lab_utils_*\n",
    "from plt_one_addpt_onclick import plt_one_addpt_onclick\n",
    "from lab_utils_common import draw_vthresh"
   ]
  },
  {
   "cell_type": "markdown",
   "metadata": {},
   "source": [
    "## Sigmoid or Logistic Function\n",
    "<img align=\"left\" src=\"../Images/C1_W3_LogisticRegression_left.png\"     style=\" width:300px; padding: 10px; \" >As discussed in the lecture videos, for a classification task, we can start by using our linear regression model, $f_{\\mathbf{w},b}(\\mathbf{x}^{(i)}) = \\mathbf{w} \\cdot  \\mathbf{x}^{(i)} + b$, to predict $y$ given $x$. \n",
    "- However, we would like the predictions of our classification model to be between 0 and 1 since our output variable $y$ is either 0 or 1. \n",
    "- This can be accomplished by using a \"sigmoid function\" which maps all input values to values between 0 and 1. \n",
    "\n",
    "\n",
    "Let's implement the sigmoid function and see this for ourselves.\n",
    "\n",
    "## Formula for Sigmoid function\n",
    "\n",
    "The formula for a sigmoid function is as follows -  \n",
    "\n",
    "$g(z) = \\frac{1}{1+e^{-z}}\\tag{1}$\n",
    "\n",
    "In the case of logistic regression, z (the input to the sigmoid function), is the output of a linear regression model. \n",
    "- In the case of a single example, $z$ is scalar.\n",
    "- in the case of multiple examples, $z$ may be a vector consisting of $m$ values, one for each example. \n",
    "- The implementation of the sigmoid function should cover both of these potential input formats.\n",
    "Let's implement this in Python."
   ]
  },
  {
   "cell_type": "markdown",
   "metadata": {},
   "source": [
    "NumPy has a function called [`exp()`](https://numpy.org/doc/stable/reference/generated/numpy.exp.html), which offers a convenient way to calculate the exponential ( $e^{z}$) of all elements in the input array (`z`).\n",
    " \n",
    "It also works with a single number as an input, as shown below."
   ]
  },
  {
   "cell_type": "code",
   "execution_count": 2,
   "metadata": {},
   "outputs": [
    {
     "name": "stdout",
     "output_type": "stream",
     "text": [
      "Input to exp: [1 2 3]\n",
      "Output of exp: [ 2.71828183  7.3890561  20.08553692]\n",
      "Input to exp: 1\n",
      "Output of exp: 2.718281828459045\n"
     ]
    }
   ],
   "source": [
    "input_array = np.array([1, 2, 3])\n",
    "exp_array = np.exp(input_array)\n",
    "print(\"Input to exp:\", input_array)\n",
    "print(\"Output of exp:\", exp_array)\n",
    "\n",
    "# Input is a single number\n",
    "input_val = 1\n",
    "exp_val = np.exp(input_val)\n",
    "print(\"Input to exp:\", input_val)\n",
    "print(\"Output of exp:\", exp_val)"
   ]
  },
  {
   "cell_type": "markdown",
   "metadata": {},
   "source": [
    "The `sigmoid` function is implemented in python as shown in the cell below."
   ]
  },
  {
   "cell_type": "code",
   "execution_count": 3,
   "metadata": {},
   "outputs": [],
   "source": [
    "def sigmoid(z):\n",
    "    \"\"\" \n",
    "        Compute de sgmoid of z\n",
    "        \n",
    "        Args:\n",
    "            z (ndarray) : A scalar, numpy array of any size.\n",
    "        Returns:\n",
    "            g (ndarray) : sigmoid(z), with the same shape as z\n",
    "    \"\"\"\n",
    "    \n",
    "    g = 1 / (1 + np.exp(z))\n",
    "    \n",
    "    return g"
   ]
  },
  {
   "cell_type": "markdown",
   "metadata": {},
   "source": [
    "Let's see what the output of this function is for various value of `z`"
   ]
  },
  {
   "cell_type": "code",
   "execution_count": 4,
   "metadata": {},
   "outputs": [
    {
     "name": "stdout",
     "output_type": "stream",
     "text": [
      "Input (z), Output (sigmoid(z))\n",
      "[[-1.000e+01  1.000e+00]\n",
      " [-9.000e+00  9.999e-01]\n",
      " [-8.000e+00  9.997e-01]\n",
      " [-7.000e+00  9.991e-01]\n",
      " [-6.000e+00  9.975e-01]\n",
      " [-5.000e+00  9.933e-01]\n",
      " [-4.000e+00  9.820e-01]\n",
      " [-3.000e+00  9.526e-01]\n",
      " [-2.000e+00  8.808e-01]\n",
      " [-1.000e+00  7.311e-01]\n",
      " [ 0.000e+00  5.000e-01]\n",
      " [ 1.000e+00  2.689e-01]\n",
      " [ 2.000e+00  1.192e-01]\n",
      " [ 3.000e+00  4.743e-02]\n",
      " [ 4.000e+00  1.799e-02]\n",
      " [ 5.000e+00  6.693e-03]\n",
      " [ 6.000e+00  2.473e-03]\n",
      " [ 7.000e+00  9.111e-04]\n",
      " [ 8.000e+00  3.354e-04]\n",
      " [ 9.000e+00  1.234e-04]\n",
      " [ 1.000e+01  4.540e-05]]\n"
     ]
    }
   ],
   "source": [
    "# Generate an array of evenly spaced values between -10 and 10\n",
    "z_tmp = np.arange(-10, 11)\n",
    "\n",
    "# Use the function implemented above to get the sigmoid values\n",
    "y = sigmoid(z_tmp)\n",
    "\n",
    "# Code for pretty printing the two arrays next to each other\n",
    "np.set_printoptions(precision=3) \n",
    "print(\"Input (z), Output (sigmoid(z))\")\n",
    "print(np.c_[z_tmp, y])"
   ]
  },
  {
   "cell_type": "markdown",
   "metadata": {},
   "source": [
    "The values in the left column are `z`, and the values in the right column are `sigmoid(z)`. As you can see, the input values to the sigmoid range from -10 to 10, and the output values range from 0 to 1. \n",
    "\n",
    "Now, let's try to plot this function using the `matplotlib` library."
   ]
  },
  {
   "cell_type": "code",
   "execution_count": 5,
   "metadata": {},
   "outputs": [
    {
     "data": {
      "application/vnd.jupyter.widget-view+json": {
       "model_id": "f0f04ab68edd45738389a4c47039dcb3",
       "version_major": 2,
       "version_minor": 0
      },
      "image/png": "[encoded data removed]",
      "text/html": [
       "\n",
       "            <div style=\"display: inline-block;\">\n",
       "                <div class=\"jupyter-widgets widget-label\" style=\"text-align: center;\">\n",
       "                    Figure\n",
       "                </div>\n",
       "                <img src='data:image/png;base64,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' width=500.0/>\n",
       "            </div>\n",
       "        "
      ],
      "text/plain": [
       "Canvas(toolbar=Toolbar(toolitems=[('Home', 'Reset original view', 'home', 'home'), ('Back', 'Back to previous …"
      ]
     },
     "metadata": {},
     "output_type": "display_data"
    }
   ],
   "source": [
    "# Plot z vs sigmoid(z)\n",
    "fig,ax = plt.subplots(1,1,figsize=(5,3))\n",
    "ax.plot(z_tmp, y, c=\"b\")\n",
    "\n",
    "ax.set_title(\"Sigmoid function\")\n",
    "ax.set_ylabel('sigmoid(z)')\n",
    "ax.set_xlabel('z')\n",
    "draw_vthresh(ax,0)"
   ]
  },
  {
   "cell_type": "markdown",
   "metadata": {},
   "source": [
    "As you can see, the sigmoid function approaches  `0` as `z` goes to large negative values and approaches `1` as `z` goes to large positive values.\n"
   ]
  },
  {
   "cell_type": "markdown",
   "metadata": {},
   "source": [
    "## Logistic Regression\n",
    "<img align=\"left\" src=\"../Images/C1_W3_LogisticRegression_right.png\"     style=\" width:300px; padding: 10px; \" > A logistic regression model applies the sigmoid to the familiar linear regression model as shown below:\n",
    "\n",
    "$$ f_{\\mathbf{w},b}(\\mathbf{x}^{(i)}) = g(\\mathbf{w} \\cdot \\mathbf{x}^{(i)} + b ) \\tag{2} $$ \n",
    "\n",
    "  where\n",
    "\n",
    "  $g(z) = \\frac{1}{1+e^{-z}}\\tag{3}$"
   ]
  },
  {
   "cell_type": "code",
   "execution_count": 6,
   "metadata": {},
   "outputs": [],
   "source": [
    "x_train = np.array([0., 1, 2, 3, 4, 5])\n",
    "y_train = np.array([0,  0, 0, 1, 1, 1])\n",
    "\n",
    "w_in = np.zeros(1)\n",
    "b_in = 0"
   ]
  },
  {
   "cell_type": "markdown",
   "metadata": {},
   "source": [
    "Try the following steps:\n",
    "- Click on 'Run Logistic Regression' to find the best logistic regression model for the given training data\n",
    "    - Note the resulting model fits the data quite well.\n",
    "    - Note, the orange line is '$z$' or $\\mathbf{w} \\cdot \\mathbf{x}^{(i)} + b$  above. It does not match the line in a linear regression model.\n",
    "Further improve these results by applying a *threshold*. \n",
    "- Tick the box on the 'Toggle 0.5 threshold' to show the predictions if a threshold is applied.\n",
    "    - These predictions look good. The predictions match the data\n",
    "    - Now, add further data points in the large tumor size range (near 10), and re-run logistic regression.\n",
    "    - unlike the linear regression model, this model continues to make correct predictions"
   ]
  },
  {
   "cell_type": "code",
   "execution_count": null,
   "metadata": {},
   "outputs": [],
   "source": [
    "plt.close('all') \n",
    "addpt = plt_one_addpt_onclick( x_train,y_train, w_in, b_in, logistic=True)"
   ]
  },
  {
   "cell_type": "markdown",
   "metadata": {},
   "source": [
    "<img align=\"left\" src=\"../Images/figure_lab02_sigmoid.png\" style=\" width:500px; padding: 10px; \" > "
   ]
  },
  {
   "cell_type": "markdown",
   "metadata": {},
   "source": [
    "## Congratulations!\n",
    "You have explored the use of the sigmoid function in logistic regression."
   ]
  }
 ],
 "metadata": {
  "kernelspec": {
   "display_name": "DATATECH_TUTO",
   "language": "python",
   "name": "python3"
  },
  "language_info": {
   "codemirror_mode": {
    "name": "ipython",
    "version": 3
   },
   "file_extension": ".py",
   "mimetype": "text/x-python",
   "name": "python",
   "nbconvert_exporter": "python",
   "pygments_lexer": "ipython3",
   "version": "3.12.1"
  }
 },
 "nbformat": 4,
 "nbformat_minor": 2
}
